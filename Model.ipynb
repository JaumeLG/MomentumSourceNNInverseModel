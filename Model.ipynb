{
 "cells": [
  {
   "cell_type": "code",
   "execution_count": 10,
   "id": "70dba79d",
   "metadata": {},
   "outputs": [
    {
     "name": "stdout",
     "output_type": "stream",
     "text": [
      "Notebook running on Python 3.8.12\n",
      "Numpy version 1.21.4\n",
      "Keras version  2.7.0 and TensorFlow 2.7.0\n"
     ]
    }
   ],
   "source": [
    "import os\n",
    "from decimal import Decimal\n",
    "import numpy as np\n",
    "from numpy import genfromtxt\n",
    "import glob\n",
    "import re\n",
    "import importlib\n",
    "import gc\n",
    "import matplotlib.pyplot as plt\n",
    "import math\n",
    "from sklearn.preprocessing import StandardScaler\n",
    "from sklearn.metrics import mean_absolute_error, mean_squared_error\n",
    "from sklearn.preprocessing import scale\n",
    "import pandas as pd\n",
    "import keras\n",
    "from keras.models import load_model\n",
    "from keras.models import Sequential, load_model\n",
    "from keras.layers.core import Dense, Flatten\n",
    "from keras.layers.convolutional import Conv2D\n",
    "from keras.layers import Input, Concatenate\n",
    "from keras.callbacks import ModelCheckpoint\n",
    "from platform import python_version\n",
    "import tensorflow as tf\n",
    "\n",
    "rmse = tf.keras.metrics.RootMeanSquaredError()\n",
    "\n",
    "print('Notebook running on Python', python_version())\n",
    "print('Numpy version', np.version.version)\n",
    "print('Keras version ', keras.__version__,'and TensorFlow', tf.__version__)"
   ]
  },
  {
   "cell_type": "code",
   "execution_count": 7,
   "id": "5d34ebf9",
   "metadata": {},
   "outputs": [
    {
     "name": "stdout",
     "output_type": "stream",
     "text": [
      "Total samples:  500\n",
      "(500, 603)\n"
     ]
    }
   ],
   "source": [
    "ds=[]\n",
    "orden=[]\n",
    "total_samples = 0\n",
    "for filename in glob.glob(\"Dataset/NNTrainingTesting-3p-3c-v7_*.csv\"):\n",
    "    temp=filename[41:-1].split(\"_\")\n",
    "    DP=temp[:1]\n",
    "    DP=''.join(DP)\n",
    "    DP=int(DP)\n",
    "    orden.append(DP)\n",
    "    if DP >= 100:\n",
    "        params = np.array(filename[47+2:-4].split(\"_\"), dtype=np.float32)#loading the parameters from the .csv file name\n",
    "    elif DP >= 10:\n",
    "        params = np.array(filename[47+1:-4].split(\"_\"), dtype=np.float32)\n",
    "    else:\n",
    "        params = np.array(filename[47:-4].split(\"_\"), dtype=np.float32)  \n",
    "    data = genfromtxt(filename, delimiter='\\n')\n",
    "    row = np.concatenate((data, params), axis=0)#joining the velocity data (features) and the parameters (labels)\n",
    "    ds.append(row)\n",
    "    total_samples+=1\n",
    "print(\"Total samples: \", total_samples)\n",
    "\n",
    "ds = np.array(ds, dtype=np.float32)\n",
    "orden=np.array(orden, dtype=np.int32)\n",
    "\n",
    "\n",
    "print(ds.shape)"
   ]
  },
  {
   "cell_type": "markdown",
   "id": "4ea4b5a1",
   "metadata": {},
   "source": [
    "# Training and Testing Data preparation"
   ]
  },
  {
   "cell_type": "code",
   "execution_count": 8,
   "id": "a5d0f387",
   "metadata": {},
   "outputs": [
    {
     "name": "stdout",
     "output_type": "stream",
     "text": [
      "(400, 200)\n",
      "(100, 200)\n",
      "(400, 3)\n",
      "(100, 3)\n"
     ]
    }
   ],
   "source": [
    "features=np.array(ds[:,:600])#separating features and labels\n",
    "labels=np.array(ds[:,600:])/5000#converting all labels to be between 0 and 1 for Mz and between -1 and 1 for Mr and Mt\n",
    "\n",
    "scaler=StandardScaler()\n",
    "scaler.fit(features)\n",
    "\n",
    "train_final_input = features[:400,:]\n",
    "test_final_input = features[400:,:]\n",
    "train_final_label=labels[:400,:]\n",
    "test_final_label=labels[400:,:]\n",
    "\n",
    "train_final_input=scaler.transform(train_final_input)\n",
    "test_final_input=scaler.transform(test_final_input)\n",
    "\n",
    "trainfi_Vx=np.array(train_final_input[:,0:598:3])\n",
    "trainfi_Vy=np.array(train_final_input[:,1:599:3])\n",
    "trainfi_Vz=np.array(train_final_input[:,2:600:3])\n",
    "\n",
    "testfi_Vx=np.array(test_final_input[:,0:598:3])\n",
    "testfi_Vy=np.array(test_final_input[:,1:599:3])\n",
    "testfi_Vz=np.array(test_final_input[:,2:600:3])\n",
    "\n",
    "trainfi_Vx_pd=pd.DataFrame(trainfi_Vx)\n",
    "trainfi_Vy_pd=pd.DataFrame(trainfi_Vy)\n",
    "trainfi_Vz_pd=pd.DataFrame(trainfi_Vz)\n",
    "testfi_Vx_pd=pd.DataFrame(testfi_Vx)\n",
    "testfi_Vy_pd=pd.DataFrame(testfi_Vy)\n",
    "testfi_Vz_pd=pd.DataFrame(testfi_Vz)\n",
    "\n",
    "\n",
    "trainfl_pd=pd.DataFrame(train_final_label)\n",
    "testfl_pd=pd.DataFrame(test_final_label)\n",
    "\n",
    "print(trainfi_Vx_pd.shape)\n",
    "print(testfi_Vx_pd.shape)\n",
    "print(trainfl_pd.shape)\n",
    "print(testfl_pd.shape)"
   ]
  },
  {
   "cell_type": "code",
   "execution_count": 12,
   "id": "af4c4a5d",
   "metadata": {},
   "outputs": [],
   "source": [
    "leakyrelu = lambda x: tf.keras.activations.relu(x, alpha=0.2)"
   ]
  },
  {
   "cell_type": "markdown",
   "id": "7bffb717",
   "metadata": {},
   "source": [
    "# Neural Network Architecture "
   ]
  },
  {
   "cell_type": "code",
   "execution_count": 6,
   "id": "2c735ad9",
   "metadata": {},
   "outputs": [
    {
     "name": "stdout",
     "output_type": "stream",
     "text": [
      "21\n"
     ]
    }
   ],
   "source": [
    "lr=1e-5\n",
    "vldsplt=0.2\n",
    "NumberOFBatches=15\n",
    "bz=int(len(train_final_input)*(1-vldsplt)/NumberOFBatches)\n",
    "print(bz)\n",
    "rglz=0.02"
   ]
  },
  {
   "cell_type": "code",
   "execution_count": 13,
   "id": "e0f7eb85",
   "metadata": {},
   "outputs": [
    {
     "name": "stdout",
     "output_type": "stream",
     "text": [
      "Model: \"model\"\n",
      "__________________________________________________________________________________________________\n",
      " Layer (type)                   Output Shape         Param #     Connected to                     \n",
      "==================================================================================================\n",
      " input_4 (InputLayer)           [(None, 200)]        0           []                               \n",
      "                                                                                                  \n",
      " input_5 (InputLayer)           [(None, 200)]        0           []                               \n",
      "                                                                                                  \n",
      " input_6 (InputLayer)           [(None, 200)]        0           []                               \n",
      "                                                                                                  \n",
      " dense (Dense)                  (None, 200)          40200       ['input_4[0][0]']                \n",
      "                                                                                                  \n",
      " dense_1 (Dense)                (None, 200)          40200       ['input_5[0][0]']                \n",
      "                                                                                                  \n",
      " dense_2 (Dense)                (None, 200)          40200       ['input_6[0][0]']                \n",
      "                                                                                                  \n",
      " concatenate (Concatenate)      (None, 600)          0           ['dense[0][0]',                  \n",
      "                                                                  'dense_1[0][0]',                \n",
      "                                                                  'dense_2[0][0]']                \n",
      "                                                                                                  \n",
      " dense_3 (Dense)                (None, 500)          300500      ['concatenate[0][0]']            \n",
      "                                                                                                  \n",
      " dropout (Dropout)              (None, 500)          0           ['dense_3[0][0]']                \n",
      "                                                                                                  \n",
      " dense_4 (Dense)                (None, 420)          210420      ['dropout[0][0]']                \n",
      "                                                                                                  \n",
      " dropout_1 (Dropout)            (None, 420)          0           ['dense_4[0][0]']                \n",
      "                                                                                                  \n",
      " dense_5 (Dense)                (None, 360)          151560      ['dropout_1[0][0]']              \n",
      "                                                                                                  \n",
      " dropout_2 (Dropout)            (None, 360)          0           ['dense_5[0][0]']                \n",
      "                                                                                                  \n",
      " dense_6 (Dense)                (None, 300)          108300      ['dropout_2[0][0]']              \n",
      "                                                                                                  \n",
      " dropout_3 (Dropout)            (None, 300)          0           ['dense_6[0][0]']                \n",
      "                                                                                                  \n",
      " dense_7 (Dense)                (None, 150)          45150       ['dropout_3[0][0]']              \n",
      "                                                                                                  \n",
      " dense_8 (Dense)                (None, 75)           11325       ['dense_7[0][0]']                \n",
      "                                                                                                  \n",
      " dense_9 (Dense)                (None, 32)           2432        ['dense_8[0][0]']                \n",
      "                                                                                                  \n",
      " dense_10 (Dense)               (None, 3)            99          ['dense_9[0][0]']                \n",
      "                                                                                                  \n",
      "==================================================================================================\n",
      "Total params: 950,386\n",
      "Trainable params: 950,386\n",
      "Non-trainable params: 0\n",
      "__________________________________________________________________________________________________\n"
     ]
    }
   ],
   "source": [
    "I1=Input(shape=(200,))\n",
    "I2=Input(shape=(200,))\n",
    "I3=Input(shape=(200,))\n",
    "\n",
    "h1_p1=Dense(200,activation=leakyrelu)(I1)\n",
    "h1_p2=Dense(200,activation=leakyrelu)(I2)\n",
    "h1_p3=Dense(200,activation=leakyrelu)(I3)\n",
    "h1=Concatenate()([h1_p1,h1_p2,h1_p3])\n",
    "h2=Dense(500,activation=leakyrelu)(h1)\n",
    "hdp1=keras.layers.Dropout(0.5)(h2)\n",
    "h3=Dense(420,activation=leakyrelu)(hdp1)\n",
    "hdp2=keras.layers.Dropout(0.35)(h3)\n",
    "h4=Dense(360,activation=leakyrelu)(hdp2)\n",
    "hdp3=keras.layers.Dropout(0.25)(h4)\n",
    "h5=Dense(300,activation=leakyrelu)(hdp3)\n",
    "hdp4=keras.layers.Dropout(0.15)(h5)\n",
    "h6=Dense(150,activation=leakyrelu)(hdp4)\n",
    "h7=Dense(75,activation=leakyrelu)(h6)\n",
    "h8=Dense(32,activation=leakyrelu)(h7)\n",
    "Out=Dense(3)(h8)\n",
    "\n",
    "model=keras.models.Model(inputs=[I1,I2,I3],outputs=Out)\n",
    "\n",
    "model.compile(loss='mse', optimizer=tf.keras.optimizers.Adam(learning_rate=lr), metrics=[rmse, 'mae'])\n",
    "model.summary()"
   ]
  },
  {
   "cell_type": "markdown",
   "id": "14b4a2c0",
   "metadata": {},
   "source": [
    "# Training"
   ]
  },
  {
   "cell_type": "code",
   "execution_count": 14,
   "id": "cbd6a379",
   "metadata": {},
   "outputs": [],
   "source": [
    "history = model.fit(\n",
    "    [trainfi_Vx_pd,trainfi_Vy_pd,trainfi_Vz_pd], trainfl_pd,\n",
    "    epochs=15000,\n",
    "    verbose=0,\n",
    "    validation_split = vldsplt)"
   ]
  },
  {
   "cell_type": "markdown",
   "id": "f5b6be9c",
   "metadata": {},
   "source": [
    "# Evaluation "
   ]
  },
  {
   "cell_type": "code",
   "execution_count": 15,
   "id": "48386e29",
   "metadata": {},
   "outputs": [],
   "source": [
    "def plot_loss(history,maximo):\n",
    "  plt.figure(figsize=(16,8))\n",
    "  plt.plot(history.history['loss'], label='loss')\n",
    "  plt.plot(history.history['val_loss'], label='val_loss')\n",
    "  plt.ylim([0, maximo])\n",
    "  plt.xlabel('Epoch')\n",
    "  plt.ylabel('Error')\n",
    "  plt.legend()\n",
    "  plt.grid(True)"
   ]
  },
  {
   "cell_type": "code",
   "execution_count": 16,
   "id": "7501ccb7",
   "metadata": {},
   "outputs": [
    {
     "data": {
      "image/png": "[encoded data removed]",
      "text/plain": [
       "<Figure size 1152x576 with 1 Axes>"
      ]
     },
     "metadata": {
      "needs_background": "light"
     },
     "output_type": "display_data"
    }
   ],
   "source": [
    "hist = pd.DataFrame(history.history)\n",
    "hist['epoch'] = history.epoch\n",
    "plot_loss(history,0.02)"
   ]
  },
  {
   "cell_type": "code",
   "execution_count": 17,
   "id": "7870ff0f",
   "metadata": {},
   "outputs": [
    {
     "name": "stdout",
     "output_type": "stream",
     "text": [
      "4/4 [==============================] - 0s 4ms/step - loss: 0.0012 - root_mean_squared_error: 0.0353 - mae: 0.0192\n"
     ]
    }
   ],
   "source": [
    "results= model.evaluate([testfi_Vx_pd,testfi_Vy_pd,testfi_Vz_pd], testfl_pd, verbose=1)"
   ]
  },
  {
   "cell_type": "markdown",
   "id": "2080cd4d",
   "metadata": {},
   "source": [
    "# Saved of the NN and the predictions"
   ]
  },
  {
   "cell_type": "code",
   "execution_count": 12,
   "id": "425028a5",
   "metadata": {},
   "outputs": [],
   "source": [
    "model.save(\"NN_for_MomentumSources.h5\")"
   ]
  },
  {
   "cell_type": "code",
   "execution_count": 15,
   "id": "c2adc402",
   "metadata": {},
   "outputs": [
    {
     "name": "stdout",
     "output_type": "stream",
     "text": [
      "4/4 [==============================] - 0s 6ms/step\n"
     ]
    }
   ],
   "source": [
    "predictions=model.predict([testfi_Vx_pd,testfi_Vy_pd,testfi_Vz_pd], verbose=1)\n",
    "finalPredictions=predictions*5000"
   ]
  },
  {
   "cell_type": "code",
   "execution_count": 25,
   "id": "fcf4d85f",
   "metadata": {},
   "outputs": [],
   "source": [
    "np.savetxt('Predictions_momentumSources.csv', finalpredictions, delimiter=';', fmt='%0.6f')"
   ]
  }
 ],
 "metadata": {
  "kernelspec": {
   "display_name": "Python 3",
   "language": "python",
   "name": "python3"
  },
  "language_info": {
   "codemirror_mode": {
    "name": "ipython",
    "version": 3
   },
   "file_extension": ".py",
   "mimetype": "text/x-python",
   "name": "python",
   "nbconvert_exporter": "python",
   "pygments_lexer": "ipython3",
   "version": "3.8.12"
  }
 },
 "nbformat": 4,
 "nbformat_minor": 5
}
